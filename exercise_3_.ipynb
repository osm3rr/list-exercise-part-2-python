{
 "cells": [
  {
   "cell_type": "markdown",
   "metadata": {},
   "source": [
    "# Exercise 3\n",
    "* (a) Ask the user to enter a sentence and print out the third word of the sentence.\n",
    "* (b) Ask the user to enter a sentence and print out every third word of the sentence."
   ]
  },
  {
   "cell_type": "code",
   "execution_count": 2,
   "metadata": {},
   "outputs": [
    {
     "name": "stdout",
     "output_type": "stream",
     "text": [
      "Original sentence in list form: ['este', 'es', 'un', 'ejemplo']\n",
      "the third word is: un\n"
     ]
    }
   ],
   "source": [
    "# solution a\n",
    "from string import punctuation\n",
    "\n",
    "sentence = input( \"Enter a sentence: \" )\n",
    "\n",
    "sentence = sentence.lower()\n",
    "\n",
    "for c in punctuation:\n",
    "    sentence = sentence.replace(c, '')\n",
    "\n",
    "sentence = sentence.split()\n",
    "\n",
    "print( f'Original sentence in list form: {sentence}' )\n",
    "print( f'The third word is: {sentence[2]}' )\n",
    "\n",
    "\n"
   ]
  },
  {
   "cell_type": "code",
   "execution_count": 4,
   "metadata": {},
   "outputs": [
    {
     "name": "stdout",
     "output_type": "stream",
     "text": [
      "Original sentence in list form: ['1', '2', '3', '4', '5', '6', '7', '8', '9']\n",
      "The third word is: ['3', '6', '9']\n"
     ]
    }
   ],
   "source": [
    "# solution b\n",
    "from string import punctuation\n",
    "\n",
    "sentence = input( \" Enter a sentence: \" )\n",
    "\n",
    "sentence = sentence.lower()\n",
    "\n",
    "for c in punctuation:\n",
    "    sentence = sentence.replace(c, '')\n",
    "\n",
    "sentence = sentence.split()\n",
    "\n",
    "print( f'Original sentence in list form: {sentence}' )\n",
    "print( f'Every third word in the sentence: {sentence[2::3]}' )"
   ]
  }
 ],
 "metadata": {
  "interpreter": {
   "hash": "3313d7862e35f23cb796a0d5e1a05f5386948db6518b51457360428deb8d3fb3"
  },
  "kernelspec": {
   "display_name": "Python 3.8.3 64-bit ('base': conda)",
   "language": "python",
   "name": "python3"
  },
  "language_info": {
   "codemirror_mode": {
    "name": "ipython",
    "version": 3
   },
   "file_extension": ".py",
   "mimetype": "text/x-python",
   "name": "python",
   "nbconvert_exporter": "python",
   "pygments_lexer": "ipython3",
   "version": "3.8.3"
  },
  "orig_nbformat": 4
 },
 "nbformat": 4,
 "nbformat_minor": 2
}
