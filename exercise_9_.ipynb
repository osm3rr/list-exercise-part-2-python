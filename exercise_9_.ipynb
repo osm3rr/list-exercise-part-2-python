{
 "cells": [
  {
   "cell_type": "markdown",
   "metadata": {},
   "source": [
    "# Exercise 9\n",
    "Section 8.3 described how to use the shuffle method to create a random anagram of a string.\n",
    "Use the choice method to create a random anagram of a string."
   ]
  },
  {
   "cell_type": "code",
   "execution_count": 4,
   "metadata": {},
   "outputs": [
    {
     "name": "stdout",
     "output_type": "stream",
     "text": [
      "hoal\n"
     ]
    }
   ],
   "source": [
    "# Section 8.3\n",
    "import random as rd \n",
    "\n",
    "word = input( \"Enter a word: \" )\n",
    "\n",
    "letter_list = list( word )\n",
    "\n",
    "rd.shuffle( letter_list )\n",
    "\n",
    "anagram = ''.join( letter_list )\n",
    "print( anagram )\n"
   ]
  },
  {
   "cell_type": "code",
   "execution_count": 1,
   "metadata": {},
   "outputs": [
    {
     "name": "stdout",
     "output_type": "stream",
     "text": [
      "['h', 'e', 'l', 'o', 'h']\n",
      "heloh\n"
     ]
    }
   ],
   "source": [
    "# Solution\n",
    "import random as rd \n",
    "\n",
    "word = input( \"Enter a word: \" )\n",
    "\n",
    "length_word = len( word )\n",
    "\n",
    "# Traditional for\n",
    "# for c in range( length_word ):\n",
    "#     new_word.append( rd.choice( word ) )\n",
    "\n",
    "new_word = [ rd.choice( word ) for c in range( length_word ) ]\n",
    "\n",
    "# verification print\n",
    "print( new_word )\n",
    "\n",
    "new_word_str = ''.join( [ str(item) for item in new_word ] )\n",
    "\n",
    "print( new_word_str )\n"
   ]
  }
 ],
 "metadata": {
  "interpreter": {
   "hash": "3313d7862e35f23cb796a0d5e1a05f5386948db6518b51457360428deb8d3fb3"
  },
  "kernelspec": {
   "display_name": "Python 3.8.3 64-bit ('base': conda)",
   "language": "python",
   "name": "python3"
  },
  "language_info": {
   "codemirror_mode": {
    "name": "ipython",
    "version": 3
   },
   "file_extension": ".py",
   "mimetype": "text/x-python",
   "name": "python",
   "nbconvert_exporter": "python",
   "pygments_lexer": "ipython3",
   "version": "3.8.3"
  },
  "orig_nbformat": 4
 },
 "nbformat": 4,
 "nbformat_minor": 2
}
