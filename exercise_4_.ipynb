{
 "cells": [
  {
   "cell_type": "markdown",
   "metadata": {},
   "source": [
    "# Exercise 4\n",
    "* (a) Write a program that asks the user to enter a sentence and then randomly rearranges the\n",
    "words of the sentence. Don’t worry about getting punctuation or capitalization correct.\n",
    "* (b) Do the above problem, but now make sure that the sentence starts with a capital, that\n",
    "the original first word is not capitalized if it comes in the middle of the sentence, and\n",
    "that the period is in the right place."
   ]
  },
  {
   "cell_type": "code",
   "execution_count": 1,
   "metadata": {},
   "outputs": [
    {
     "name": "stdout",
     "output_type": "stream",
     "text": [
      "Original sentence: uno dos tres\n",
      "Modified sentence: dos uno tres \n"
     ]
    }
   ],
   "source": [
    "# Solution a\n",
    "from random import shuffle\n",
    "\n",
    "sentence_input = input( \"enter a sentence: \" )\n",
    "\n",
    "print( f'Original sentence: {sentence_input}' )\n",
    "\n",
    "sentence_input = sentence_input.split()\n",
    "\n",
    "shuffle( sentence_input)\n",
    "\n",
    "length_sentence = len( sentence_input )\n",
    "\n",
    "sentence_output = str()\n",
    "\n",
    "for word in range( length_sentence ):\n",
    "    sentence_output += sentence_input[ word ] + \" \"\n",
    "    \n",
    "print( f'Modified sentence: {sentence_output}' )"
   ]
  },
  {
   "cell_type": "code",
   "execution_count": 2,
   "metadata": {},
   "outputs": [
    {
     "name": "stdout",
     "output_type": "stream",
     "text": [
      "uno dos tres\n",
      "Uno dos tres ."
     ]
    }
   ],
   "source": [
    "# Solution b\n",
    "from random import shuffle\n",
    "from string import punctuation\n",
    "\n",
    "sentence_input = input( \"enter a sentence: \" )\n",
    "\n",
    "\n",
    "print(  sentence_input )\n",
    "\n",
    "sentence_input = sentence_input.lower()\n",
    "\n",
    "for c in punctuation:\n",
    "    sentence_input = sentence_input.replace( c, '' )\n",
    "\n",
    "sentence_input = sentence_input.split()\n",
    "\n",
    "shuffle( sentence_input)\n",
    "\n",
    "length_sentence = len( sentence_input )\n",
    "\n",
    "sentence_output = str()\n",
    "\n",
    "for word in range( length_sentence ):\n",
    "    sentence_output += sentence_input[ word ] + \" \"\n",
    "\n",
    "sentence_output_cap = sentence_output.capitalize()\n",
    "\n",
    "print( sentence_output_cap, end=\".\" )\n",
    "\n",
    "#another option\n",
    "#sentence_output_cap = sentence_output_cap + \".\""
   ]
  }
 ],
 "metadata": {
  "interpreter": {
   "hash": "3313d7862e35f23cb796a0d5e1a05f5386948db6518b51457360428deb8d3fb3"
  },
  "kernelspec": {
   "display_name": "Python 3.8.3 64-bit ('base': conda)",
   "language": "python",
   "name": "python3"
  },
  "language_info": {
   "codemirror_mode": {
    "name": "ipython",
    "version": 3
   },
   "file_extension": ".py",
   "mimetype": "text/x-python",
   "name": "python",
   "nbconvert_exporter": "python",
   "pygments_lexer": "ipython3",
   "version": "3.8.3"
  },
  "orig_nbformat": 4
 },
 "nbformat": 4,
 "nbformat_minor": 2
}
