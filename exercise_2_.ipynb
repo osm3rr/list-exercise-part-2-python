{
 "cells": [
  {
   "cell_type": "markdown",
   "metadata": {},
   "source": [
    "# Exercise 2\n",
    "Write a program that allows the user to enter five numbers (read as strings). Create a string\n",
    "that consists of the user’s numbers separated by plus signs. For instance, if the user enters 2,\n",
    "5, 11, 33, and 55, then the string should be ' 2+5+11+33+55 ' .\n"
   ]
  },
  {
   "cell_type": "code",
   "execution_count": 1,
   "metadata": {},
   "outputs": [
    {
     "name": "stdout",
     "output_type": "stream",
     "text": [
      "La cadena de caracteres es: 1+2+3+4+5\n"
     ]
    }
   ],
   "source": [
    "# Solution\n",
    "# input: 1,2,3,4,5\n",
    "\n",
    "from string import punctuation\n",
    "\n",
    "number_input = input( \"Enter five numbers: \" )\n",
    "\n",
    "for c in punctuation:\n",
    "    number_input = number_input.replace( c, '+' )\n",
    "\n",
    "print( f'La cadena de caracteres es: {number_input}' )"
   ]
  }
 ],
 "metadata": {
  "interpreter": {
   "hash": "3313d7862e35f23cb796a0d5e1a05f5386948db6518b51457360428deb8d3fb3"
  },
  "kernelspec": {
   "display_name": "Python 3.8.3 64-bit ('base': conda)",
   "language": "python",
   "name": "python3"
  },
  "language_info": {
   "codemirror_mode": {
    "name": "ipython",
    "version": 3
   },
   "file_extension": ".py",
   "mimetype": "text/x-python",
   "name": "python",
   "nbconvert_exporter": "python",
   "pygments_lexer": "ipython3",
   "version": "3.8.3"
  },
  "orig_nbformat": 4
 },
 "nbformat": 4,
 "nbformat_minor": 2
}
