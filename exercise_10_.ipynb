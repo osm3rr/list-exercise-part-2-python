{
 "cells": [
  {
   "cell_type": "markdown",
   "metadata": {},
   "source": [
    "# Exercise 10\n",
    "Let L be a list of strings. Write list comprehensions that create new lists from L for each of the\n",
    "following.\n",
    "* (a) A list that consists of the strings of s with their first characters removed\n",
    "* (b) A list of the lengths of the strings of s\n",
    "* (c) A list that consists of only those strings of s that are at least three characters long"
   ]
  },
  {
   "cell_type": "code",
   "execution_count": 1,
   "metadata": {},
   "outputs": [
    {
     "name": "stdout",
     "output_type": "stream",
     "text": [
      "['ome', 'ed', 'ne', 'wo', 'hree', 'n', '']\n"
     ]
    }
   ],
   "source": [
    "# Solution a\n",
    "\n",
    "list_a = [ \"home\", \"bed\", \"one\", \"two\", \"three\", \"an\", \"a\" ]\n",
    "\n",
    "list_sol_a = [ list_a[word][ 1: ] for word in range( len( list_a ) ) ]\n",
    "\n",
    "print( list_sol_a )\n"
   ]
  },
  {
   "cell_type": "code",
   "execution_count": 2,
   "metadata": {},
   "outputs": [
    {
     "name": "stdout",
     "output_type": "stream",
     "text": [
      "[4, 3, 3, 3, 5]\n"
     ]
    }
   ],
   "source": [
    "# Solution b\n",
    "list_1 = [ \"home\", \"bed\", \"one\", \"two\", \"three\" ]\n",
    "\n",
    "list_len = [len( list_1[word] ) for word in range( len( list_1 ) ) ] \n",
    "\n",
    "print( list_len )\n",
    "\n"
   ]
  },
  {
   "cell_type": "code",
   "execution_count": 10,
   "metadata": {},
   "outputs": [
    {
     "name": "stdout",
     "output_type": "stream",
     "text": [
      "['home', 'bed', 'one', 'two', 'three']\n"
     ]
    }
   ],
   "source": [
    "# Solution c\n",
    "list_c = [ \"home\", \"bed\", \"one\", \"two\", \"three\", \"an\", \"a\" ]\n",
    "\n",
    "list_sol_c = [list_c[word]  for word in range( len( list_c ) ) if len( list_c[word] ) >= 3 ]\n",
    "\n",
    "print( list_sol_c )"
   ]
  },
  {
   "cell_type": "code",
   "execution_count": 9,
   "metadata": {},
   "outputs": [
    {
     "name": "stdout",
     "output_type": "stream",
     "text": [
      "['home', 'bed', 'one', 'two', 'three', 'an', 'a']\n",
      "['home', 'bed', 'one', 'two', 'three']\n"
     ]
    }
   ],
   "source": [
    "list_c = [ \"home\", \"bed\", \"one\", \"two\", \"three\", \"an\", \"a\" ]\n",
    "\n",
    "list_sol_c = []\n",
    "\n",
    "for word in range( len( list_c ) ):\n",
    "    if len( list_c[word] ) >= 3:\n",
    "        list_sol_c.append( list_c[word] )\n",
    "\n",
    "print( list_c )\n",
    "print( list_sol_c )"
   ]
  }
 ],
 "metadata": {
  "interpreter": {
   "hash": "3313d7862e35f23cb796a0d5e1a05f5386948db6518b51457360428deb8d3fb3"
  },
  "kernelspec": {
   "display_name": "Python 3.8.3 64-bit ('base': conda)",
   "language": "python",
   "name": "python3"
  },
  "language_info": {
   "codemirror_mode": {
    "name": "ipython",
    "version": 3
   },
   "file_extension": ".py",
   "mimetype": "text/x-python",
   "name": "python",
   "nbconvert_exporter": "python",
   "pygments_lexer": "ipython3",
   "version": "3.8.3"
  },
  "orig_nbformat": 4
 },
 "nbformat": 4,
 "nbformat_minor": 2
}
