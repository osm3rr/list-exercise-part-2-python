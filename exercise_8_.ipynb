{
 "cells": [
  {
   "cell_type": "markdown",
   "metadata": {},
   "source": [
    "# Exercise 8\n",
    "Write a censoring program. Allow the user to enter some text and your program should print\n",
    "out the text with all the curse words starred out. The number of stars should match the length\n",
    "of the curse word. For the purposes of this program, just use the bads words \"centellas\", \"rayos\",\n",
    "\"pepino\", \"cebolla\", and \"relampagos\". Sample output is below:\n",
    "\n",
    "* Enter some text: Qué rayos pasa aquí\n",
    "* figured out: Que ***** pasa aquí\n",
    "* Cómo pepinos paso eso? Centellas\n",
    "* Cómo ******* paso eso? *********"
   ]
  },
  {
   "cell_type": "code",
   "execution_count": 14,
   "metadata": {},
   "outputs": [
    {
     "name": "stdout",
     "output_type": "stream",
     "text": [
      "¡Que rayos y pepinos Pasa!\n",
      "¡Que ***** y ******* Pasa!\n"
     ]
    }
   ],
   "source": [
    "# bad words lists\n",
    "bad_words = [ \"rayos\", \"pepinos\", \"cebollas\", \"relampagos\", \"centellas\" ]\n",
    "\n",
    "input_text = input( \"Enter a phrase: \" )\n",
    "\n",
    "# verification print\n",
    "print( input_text )\n",
    "\n",
    "input_text_list = input_text.split()\n",
    "\n",
    "length_input_text = len( input_text_list )\n",
    "\n",
    "for word in range( length_input_text ):\n",
    "    if input_text_list[word] in bad_words:\n",
    "        \n",
    "        bad_word_len = len( input_text_list[word] )\n",
    "        bad_word_rep = \"*\" * bad_word_len\n",
    "        \n",
    "        input_text_list.pop( word )\n",
    "        input_text_list.insert( word, bad_word_rep )\n",
    "    \n",
    "# ** Note: explain the use of .join\n",
    "\n",
    "new_text = ' '.join( [ str( item ) for item in input_text_list ] )\n",
    "\n",
    "\n",
    "print( new_text )"
   ]
  },
  {
   "cell_type": "code",
   "execution_count": null,
   "metadata": {},
   "outputs": [],
   "source": []
  },
  {
   "cell_type": "code",
   "execution_count": 10,
   "metadata": {},
   "outputs": [
    {
     "name": "stdout",
     "output_type": "stream",
     "text": [
      "zero new two three\n"
     ]
    }
   ],
   "source": [
    "list_1 = ['zero', 'one', 'two', 'three']\n",
    "\n",
    "list_1.pop( 1 )\n",
    "list_1.insert( 1, \"new\" )\n",
    "\n",
    "list_string = ' '.join([str( item ) for item in list_1])\n",
    "\n",
    "print( list_string )\n"
   ]
  }
 ],
 "metadata": {
  "interpreter": {
   "hash": "3313d7862e35f23cb796a0d5e1a05f5386948db6518b51457360428deb8d3fb3"
  },
  "kernelspec": {
   "display_name": "Python 3.8.3 64-bit ('base': conda)",
   "language": "python",
   "name": "python3"
  },
  "language_info": {
   "codemirror_mode": {
    "name": "ipython",
    "version": 3
   },
   "file_extension": ".py",
   "mimetype": "text/x-python",
   "name": "python",
   "nbconvert_exporter": "python",
   "pygments_lexer": "ipython3",
   "version": "3.8.3"
  },
  "orig_nbformat": 4
 },
 "nbformat": 4,
 "nbformat_minor": 2
}
