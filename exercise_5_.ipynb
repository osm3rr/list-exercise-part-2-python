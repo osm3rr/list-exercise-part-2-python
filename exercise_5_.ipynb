{
 "cells": [
  {
   "cell_type": "markdown",
   "metadata": {},
   "source": [
    "# Exercise 5\n",
    "Write a simple quote-of-the-day program. The program should contain a list of quotes, and\n",
    "when the user runs the program, a randomly selected quote should be printed."
   ]
  },
  {
   "cell_type": "code",
   "execution_count": 13,
   "metadata": {},
   "outputs": [
    {
     "name": "stdout",
     "output_type": "stream",
     "text": [
      "Quote of the day: \"quote five\"\n"
     ]
    }
   ],
   "source": [
    "# Solution\n",
    "from random import choice\n",
    "\n",
    "quote_day = [\"quote one\", \"quote two\", \"quote three\", \"quote four\", \"quote five\"]\n",
    "\n",
    "length_quote = len( quote_day )\n",
    "\n",
    "print(f'Quote of the day: \"{choice( quote_day )}\"')"
   ]
  },
  {
   "cell_type": "code",
   "execution_count": null,
   "metadata": {},
   "outputs": [],
   "source": []
  }
 ],
 "metadata": {
  "interpreter": {
   "hash": "3313d7862e35f23cb796a0d5e1a05f5386948db6518b51457360428deb8d3fb3"
  },
  "kernelspec": {
   "display_name": "Python 3.8.3 64-bit ('base': conda)",
   "language": "python",
   "name": "python3"
  },
  "language_info": {
   "codemirror_mode": {
    "name": "ipython",
    "version": 3
   },
   "file_extension": ".py",
   "mimetype": "text/x-python",
   "name": "python",
   "nbconvert_exporter": "python",
   "pygments_lexer": "ipython3",
   "version": "3.8.3"
  },
  "orig_nbformat": 4
 },
 "nbformat": 4,
 "nbformat_minor": 2
}
