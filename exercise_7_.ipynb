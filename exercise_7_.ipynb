{
 "cells": [
  {
   "cell_type": "markdown",
   "metadata": {},
   "source": [
    "# Exercise 7\n",
    "Write a simple quiz game that has a list of ten questions and a list of answers to those ques-\n",
    "tions. The game should give the player four randomly selected questions to answer. It should\n",
    "ask the questions one-by-one, and tell the player whether they got the question right or\n",
    "wrong. At the end it should print out how many out of four they got right."
   ]
  },
  {
   "cell_type": "code",
   "execution_count": 14,
   "metadata": {},
   "outputs": [
    {
     "name": "stdout",
     "output_type": "stream",
     "text": [
      "Good: 5+5 is 10\n",
      "Good: 1+1 is 2\n",
      "Good: 7+7 is 14\n",
      "Wrong: 9+9 is not 2\n",
      "You were right in 3/4 \n"
     ]
    }
   ],
   "source": [
    "# Solution\n",
    "import random as rd\n",
    "\n",
    "questions = ['1+1?', '2+2?', '3+3?', '4+4?', '5+5?', '6+6?', '7+7?', '8+8?', '9+9?', '10+10?']\n",
    "\n",
    "answers = ['2', '4', '6', '8', '10', '12', '14', '16', '18', '20']\n",
    "\n",
    "# total of questions\n",
    "questions_number = 4\n",
    "\n",
    "count_correct_ans = 0\n",
    "for q in range( questions_number ):\n",
    "    id = rd.randint(0, 9)\n",
    "    answer_input = input(f\" {questions[id]} \")\n",
    "    \n",
    "    if answer_input == answers[id]:\n",
    "        count_correct_ans +=1\n",
    "        print(f'Good: {questions[id]} is {answers[id]}')\n",
    "        \n",
    "    else:\n",
    "        print(f'Wrong: {questions[id]} is not {answer_input}')\n",
    "        \n",
    "print(f'You were right! in: {count_correct_ans}/{questions_number} ')\n"
   ]
  }
 ],
 "metadata": {
  "interpreter": {
   "hash": "3313d7862e35f23cb796a0d5e1a05f5386948db6518b51457360428deb8d3fb3"
  },
  "kernelspec": {
   "display_name": "Python 3.8.3 64-bit ('base': conda)",
   "language": "python",
   "name": "python3"
  },
  "language_info": {
   "codemirror_mode": {
    "name": "ipython",
    "version": 3
   },
   "file_extension": ".py",
   "mimetype": "text/x-python",
   "name": "python",
   "nbconvert_exporter": "python",
   "pygments_lexer": "ipython3",
   "version": "3.8.3"
  },
  "orig_nbformat": 4
 },
 "nbformat": 4,
 "nbformat_minor": 2
}
