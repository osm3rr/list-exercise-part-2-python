{
 "cells": [
  {
   "cell_type": "markdown",
   "metadata": {},
   "source": [
    "# Exercise 1\n",
    "Write a program that asks the user to enter some text and then counts how many articles are\n",
    "in the text. Articles are the words ' a ' , ' an ' , and ' the ' ."
   ]
  },
  {
   "cell_type": "code",
   "execution_count": 1,
   "metadata": {},
   "outputs": [
    {
     "name": "stdout",
     "output_type": "stream",
     "text": [
      " The amount of articles is: 1 \n"
     ]
    }
   ],
   "source": [
    "from string import punctuation\n",
    "\n",
    "# articles list\n",
    "articles = ['a', 'an', 'and', 'the']\n",
    "\n",
    "# data entry\n",
    "some_text = input( \"Enter some text: \" )\n",
    "\n",
    "# replace puntuation\n",
    "for c in punctuation:\n",
    "    some_text = some_text.replace( c, '' )\n",
    "\n",
    "# change to lower \n",
    "some_text = some_text.lower()\n",
    "\n",
    "# split the text in a list\n",
    "some_text_list = some_text.split()\n",
    "\n",
    "# articles counter\n",
    "articles_count = 0\n",
    "\n",
    "# length \n",
    "length_some_text = len( some_text_list )\n",
    "\n",
    "for word in range( length_some_text ):\n",
    "    if some_text_list[ word ] in articles:\n",
    "        articles_count += 1\n",
    "\n",
    "print( f' The amount of articles is: {articles_count} ' )\n",
    "\n"
   ]
  }
 ],
 "metadata": {
  "interpreter": {
   "hash": "3313d7862e35f23cb796a0d5e1a05f5386948db6518b51457360428deb8d3fb3"
  },
  "kernelspec": {
   "display_name": "Python 3.8.3 64-bit ('base': conda)",
   "language": "python",
   "name": "python3"
  },
  "language_info": {
   "codemirror_mode": {
    "name": "ipython",
    "version": 3
   },
   "file_extension": ".py",
   "mimetype": "text/x-python",
   "name": "python",
   "nbconvert_exporter": "python",
   "pygments_lexer": "ipython3",
   "version": "3.8.3"
  },
  "orig_nbformat": 4
 },
 "nbformat": 4,
 "nbformat_minor": 2
}
